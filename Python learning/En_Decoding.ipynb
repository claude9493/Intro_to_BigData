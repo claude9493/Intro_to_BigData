{
 "cells": [
  {
   "cell_type": "code",
   "execution_count": 58,
   "metadata": {
    "scrolled": true
   },
   "outputs": [
    {
     "name": "stdout",
     "output_type": "stream",
     "text": [
      "中 <class 'str'>\n",
      "b'\\xe4\\xb8\\xad' <class 'bytes'>\n"
     ]
    }
   ],
   "source": [
    "c = u'中'\n",
    "print(c,type(c))\n",
    "c = c.encode()\n",
    "print(c,type(c))"
   ]
  },
  {
   "cell_type": "code",
   "execution_count": 67,
   "metadata": {
    "scrolled": true
   },
   "outputs": [
    {
     "name": "stdout",
     "output_type": "stream",
     "text": [
      "b'\\xe4\\xbd\\xa0\\xe5\\xa5\\xbd' \n",
      " <class 'bytes'> {'encoding': 'utf-8', 'confidence': 0.7525, 'language': ''}\n",
      "b'\\xc4\\xe3\\xba\\xc3' \n",
      " <class 'bytes'> {'encoding': 'TIS-620', 'confidence': 0.3598212120361634, 'language': 'Thai'}\n"
     ]
    }
   ],
   "source": [
    "import chardet\n",
    "txt = '你好'\n",
    "txt = txt.encode() #utf-8\n",
    "print(txt, '\\n', type(txt), chardet.detect(txt))\n",
    "txt = txt.decode().encode('gbk')\n",
    "print(txt, '\\n', type(txt), chardet.detect(txt))"
   ]
  },
  {
   "cell_type": "code",
   "execution_count": null,
   "metadata": {},
   "outputs": [],
   "source": []
  }
 ],
 "metadata": {
  "kernelspec": {
   "display_name": "Python 3",
   "language": "python",
   "name": "python3"
  },
  "language_info": {
   "codemirror_mode": {
    "name": "ipython",
    "version": 3
   },
   "file_extension": ".py",
   "mimetype": "text/x-python",
   "name": "python",
   "nbconvert_exporter": "python",
   "pygments_lexer": "ipython3",
   "version": "3.6.1"
  }
 },
 "nbformat": 4,
 "nbformat_minor": 2
}
