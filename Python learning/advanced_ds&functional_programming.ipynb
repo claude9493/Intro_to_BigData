{
 "cells": [
  {
   "cell_type": "markdown",
   "metadata": {},
   "source": [
    "### Python 栈: list"
   ]
  },
  {
   "cell_type": "code",
   "execution_count": 3,
   "metadata": {},
   "outputs": [
    {
     "name": "stdout",
     "output_type": "stream",
     "text": [
      "[1, 2, 3, 4, 5, 6, 7, 11]\n",
      "11\n",
      "7\n",
      "[1, 2, 3, 4, 5, 6]\n"
     ]
    }
   ],
   "source": [
    "a = [1,2,3,4,5,6,7]\n",
    "a.append(11)\n",
    "print(a)\n",
    "print(a.pop())\n",
    "print(a.pop())\n",
    "print(a)"
   ]
  },
  {
   "cell_type": "markdown",
   "metadata": {},
   "source": [
    "### Python 队列: collections.deque"
   ]
  },
  {
   "cell_type": "code",
   "execution_count": 5,
   "metadata": {},
   "outputs": [
    {
     "name": "stdout",
     "output_type": "stream",
     "text": [
      "deque([1, 2, 3, 4, 5, 6, 7])\n",
      "<class 'collections.deque'>\n",
      "deque([1, 2, 3, 4, 5, 6, 7, 11, 20])\n",
      "1\n",
      "deque([2, 3, 4, 5, 6, 7, 11, 20])\n"
     ]
    }
   ],
   "source": [
    "from collections import deque\n",
    "a = [1,2,3,4,5,6,7]\n",
    "queue = deque(a)\n",
    "print(queue)\n",
    "print(type(queue))\n",
    "queue.append(11)\n",
    "queue.append(20)\n",
    "print(queue)\n",
    "print(queue.popleft())\n",
    "print(queue)"
   ]
  },
  {
   "cell_type": "markdown",
   "metadata": {},
   "source": [
    "### 函数式编程\n",
    "filiter(), map(), reduce(), 列表推导式"
   ]
  },
  {
   "cell_type": "code",
   "execution_count": 18,
   "metadata": {},
   "outputs": [
    {
     "name": "stdout",
     "output_type": "stream",
     "text": [
      "[3, 5, 6, 9, 10, 12, 15, 18, 20, 21, 24]\n",
      "[1, 8, 27, 64, 125, 216, 343, 512, 729, 1000]\n",
      "55\n",
      "15\n"
     ]
    }
   ],
   "source": [
    "# def f(x): return x % 3 == 0 or x % 5 == 0\n",
    "ex_ft = filter(lambda x: x%3==0 or x%5==0, range(2,25))\n",
    "print(list(ex_ft))\n",
    "ex_map = map(lambda x: x*x*x, range(1,11))\n",
    "print(list(ex_map))\n",
    "import functools\n",
    "ex_reduce = functools.reduce(lambda x,y:x+y, range(1,11))\n",
    "print(ex_reduce)\n",
    "print(functools.reduce(lambda x, y: x+y*y, [-1, 2, 3], 1))\n",
    "#last arg is initial value"
   ]
  },
  {
   "cell_type": "code",
   "execution_count": 20,
   "metadata": {},
   "outputs": [
    {
     "name": "stdout",
     "output_type": "stream",
     "text": [
      "[(1, 3), (1, 4), (2, 3), (2, 1), (2, 4), (3, 1), (3, 4)]\n",
      "[1, 2, 3, 4, 5, 6, 7, 8, 9]\n"
     ]
    }
   ],
   "source": [
    "pairs = [(x,y) for x in [1,2,3] for y in [3,1,4] if x != y]\n",
    "print(pairs)\n",
    "vec = [[1,2,3], [4,5,6], [7,8,9]]\n",
    "spe = [num for elem in vec for num in elem]\n",
    "print(spe)"
   ]
  },
  {
   "cell_type": "markdown",
   "metadata": {},
   "source": [
    "### Python 中 \\* 的一种作用"
   ]
  },
  {
   "cell_type": "code",
   "execution_count": 27,
   "metadata": {},
   "outputs": [
    {
     "name": "stdout",
     "output_type": "stream",
     "text": [
      "[2, 3, 4, 5, 6, 7, 8, 9]\n"
     ]
    }
   ],
   "source": [
    "args = [2,10]\n",
    "print(list(range(*args))) # 参数列表的分拆"
   ]
  }
 ],
 "metadata": {
  "kernelspec": {
   "display_name": "Python 3",
   "language": "python",
   "name": "python3"
  },
  "language_info": {
   "codemirror_mode": {
    "name": "ipython",
    "version": 3
   },
   "file_extension": ".py",
   "mimetype": "text/x-python",
   "name": "python",
   "nbconvert_exporter": "python",
   "pygments_lexer": "ipython3",
   "version": "3.6.1"
  }
 },
 "nbformat": 4,
 "nbformat_minor": 2
}
