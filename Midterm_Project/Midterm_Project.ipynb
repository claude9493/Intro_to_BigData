{
 "cells": [
  {
   "cell_type": "markdown",
   "metadata": {},
   "source": [
    "<h1 >Preparation</h1>"
   ]
  },
  {
   "cell_type": "code",
   "execution_count": 2,
   "metadata": {
    "collapsed": true
   },
   "outputs": [],
   "source": [
    "# Load data\n",
    "import pandas as pd\n",
    "df = pd.read_csv('./data/data.csv', encoding='gb18030')"
   ]
  },
  {
   "cell_type": "code",
   "execution_count": 3,
   "metadata": {
    "collapsed": true
   },
   "outputs": [],
   "source": [
    "import jieba"
   ]
  },
  {
   "cell_type": "code",
   "execution_count": 4,
   "metadata": {
    "collapsed": true
   },
   "outputs": [],
   "source": [
    "def chinese_word_cut(mytext):\n",
    "    return \" \".join(jieba.cut(mytext))"
   ]
  },
  {
   "cell_type": "code",
   "execution_count": 5,
   "metadata": {},
   "outputs": [
    {
     "name": "stderr",
     "output_type": "stream",
     "text": [
      "Building prefix dict from the default dictionary ...\n",
      "Dumping model to file cache /var/folders/1d/q14zm7gx0r5dnfcsrls8r0s40000gq/T/jieba.cache\n",
      "Loading model cost 2.562 seconds.\n",
      "Prefix dict has been built succesfully.\n"
     ]
    }
   ],
   "source": [
    "df['cutted_comment'] = df.comment.apply(chinese_word_cut) # Word cutting"
   ]
  },
  {
   "cell_type": "code",
   "execution_count": 6,
   "metadata": {},
   "outputs": [
    {
     "data": {
      "text/html": [
       "<div>\n",
       "<style>\n",
       "    .dataframe thead tr:only-child th {\n",
       "        text-align: right;\n",
       "    }\n",
       "\n",
       "    .dataframe thead th {\n",
       "        text-align: left;\n",
       "    }\n",
       "\n",
       "    .dataframe tbody tr th {\n",
       "        vertical-align: top;\n",
       "    }\n",
       "</style>\n",
       "<table border=\"1\" class=\"dataframe\">\n",
       "  <thead>\n",
       "    <tr style=\"text-align: right;\">\n",
       "      <th></th>\n",
       "      <th>comment</th>\n",
       "      <th>star</th>\n",
       "      <th>cutted_comment</th>\n",
       "      <th>cutted_comment_list</th>\n",
       "    </tr>\n",
       "  </thead>\n",
       "  <tbody>\n",
       "    <tr>\n",
       "      <th>0</th>\n",
       "      <td>口味：不知道是我口高了，还是这家真不怎么样。 我感觉口味确实很一般很一般。上菜相当快，我敢说...</td>\n",
       "      <td>2</td>\n",
       "      <td>口味 ： 不 知道 是 我口 高 了 ， 还是 这家 真 不怎么样 。   我 感觉 口味 ...</td>\n",
       "      <td>[口味, ：, 不, 知道, 是, 我口, 高, 了, ，, 还是, 这家, 真, 不怎么样...</td>\n",
       "    </tr>\n",
       "    <tr>\n",
       "      <th>1</th>\n",
       "      <td>菜品丰富质量好，服务也不错！很喜欢！</td>\n",
       "      <td>4</td>\n",
       "      <td>菜品 丰富 质量 好 ， 服务 也 不错 ！ 很 喜欢 ！</td>\n",
       "      <td>[菜品, 丰富, 质量, 好, ，, 服务, 也, 不错, ！, 很, 喜欢, ！]</td>\n",
       "    </tr>\n",
       "    <tr>\n",
       "      <th>2</th>\n",
       "      <td>说真的，不晓得有人排队的理由，香精香精香精香精，拜拜！</td>\n",
       "      <td>2</td>\n",
       "      <td>说真的 ， 不 晓得 有人 排队 的 理由 ， 香精 香精 香精 香精 ， 拜拜 ！</td>\n",
       "      <td>[说真的, ，, 不, 晓得, 有人, 排队, 的, 理由, ，, 香精, 香精, 香精, ...</td>\n",
       "    </tr>\n",
       "    <tr>\n",
       "      <th>3</th>\n",
       "      <td>菜量实惠，上菜还算比较快，疙瘩汤喝出了秋日的暖意，烧茄子吃出了大阪烧的味道，想吃土豆片也是口...</td>\n",
       "      <td>5</td>\n",
       "      <td>菜量 实惠 ， 上菜 还 算 比较 快 ， 疙瘩汤 喝出 了 秋日 的 暖意 ， 烧茄子 吃...</td>\n",
       "      <td>[菜量, 实惠, ，, 上菜, 还, 算, 比较, 快, ，, 疙瘩汤, 喝出, 了, 秋日...</td>\n",
       "    </tr>\n",
       "    <tr>\n",
       "      <th>4</th>\n",
       "      <td>先说我算是娜娜家风荷园开业就一直在这里吃 每次出去回来总想吃一回 有时觉得外面的西式简餐总是...</td>\n",
       "      <td>4</td>\n",
       "      <td>先说 我 算是 娜娜 家风 荷园 开业 就 一直 在 这里 吃   每次 出去 回来 总想 ...</td>\n",
       "      <td>[先说, 我, 算是, 娜娜, 家风, 荷园, 开业, 就, 一直, 在, 这里, 吃, 每...</td>\n",
       "    </tr>\n",
       "  </tbody>\n",
       "</table>\n",
       "</div>"
      ],
      "text/plain": [
       "                                             comment  star  \\\n",
       "0  口味：不知道是我口高了，还是这家真不怎么样。 我感觉口味确实很一般很一般。上菜相当快，我敢说...     2   \n",
       "1                                 菜品丰富质量好，服务也不错！很喜欢！     4   \n",
       "2                        说真的，不晓得有人排队的理由，香精香精香精香精，拜拜！     2   \n",
       "3  菜量实惠，上菜还算比较快，疙瘩汤喝出了秋日的暖意，烧茄子吃出了大阪烧的味道，想吃土豆片也是口...     5   \n",
       "4  先说我算是娜娜家风荷园开业就一直在这里吃 每次出去回来总想吃一回 有时觉得外面的西式简餐总是...     4   \n",
       "\n",
       "                                      cutted_comment  \\\n",
       "0  口味 ： 不 知道 是 我口 高 了 ， 还是 这家 真 不怎么样 。   我 感觉 口味 ...   \n",
       "1                      菜品 丰富 质量 好 ， 服务 也 不错 ！ 很 喜欢 ！   \n",
       "2         说真的 ， 不 晓得 有人 排队 的 理由 ， 香精 香精 香精 香精 ， 拜拜 ！   \n",
       "3  菜量 实惠 ， 上菜 还 算 比较 快 ， 疙瘩汤 喝出 了 秋日 的 暖意 ， 烧茄子 吃...   \n",
       "4  先说 我 算是 娜娜 家风 荷园 开业 就 一直 在 这里 吃   每次 出去 回来 总想 ...   \n",
       "\n",
       "                                 cutted_comment_list  \n",
       "0  [口味, ：, 不, 知道, 是, 我口, 高, 了, ，, 还是, 这家, 真, 不怎么样...  \n",
       "1         [菜品, 丰富, 质量, 好, ，, 服务, 也, 不错, ！, 很, 喜欢, ！]  \n",
       "2  [说真的, ，, 不, 晓得, 有人, 排队, 的, 理由, ，, 香精, 香精, 香精, ...  \n",
       "3  [菜量, 实惠, ，, 上菜, 还, 算, 比较, 快, ，, 疙瘩汤, 喝出, 了, 秋日...  \n",
       "4  [先说, 我, 算是, 娜娜, 家风, 荷园, 开业, 就, 一直, 在, 这里, 吃, 每...  "
      ]
     },
     "execution_count": 6,
     "metadata": {},
     "output_type": "execute_result"
    }
   ],
   "source": [
    "# Transform the result of cutting from stirng to list\n",
    "# which is convient for getting word frequency\n",
    "df['cutted_comment_list'] = df.cutted_comment.apply(lambda string: string.split()) \n",
    "df.head(5)"
   ]
  },
  {
   "cell_type": "code",
   "execution_count": 7,
   "metadata": {
    "collapsed": true
   },
   "outputs": [],
   "source": [
    "# Stop words\n",
    "def get_custom_stopwords(stop_words_file):\n",
    "    with open(stop_words_file) as f:\n",
    "        stopwords = f.read()\n",
    "    stopwords_list = stopwords.split('\\n')\n",
    "    custom_stopwords_list = [i for i in stopwords_list]\n",
    "    return custom_stopwords_list"
   ]
  },
  {
   "cell_type": "code",
   "execution_count": 8,
   "metadata": {},
   "outputs": [
    {
     "data": {
      "text/plain": [
       "['\\xa1\\xaa\\xa1\\xaa\\xa1\\xaa\\r',\n",
       " '\\xa1\\xb7\\r',\n",
       " '\\xa3\\xac\\r',\n",
       " '\\xa1\\xc2\\xa3\\xa8\\xa3\\xb1\\xa3\\xad\\r',\n",
       " '\\xa1\\xb1\\r']"
      ]
     },
     "execution_count": 8,
     "metadata": {},
     "output_type": "execute_result"
    }
   ],
   "source": [
    "stop_words_file = \"./data/stopwordsHIT.txt\"\n",
    "# stop_words_file = \"./data/Basic_stopwords.txt\"\n",
    "stopwords = get_custom_stopwords(stop_words_file)\n",
    "stopwords[:5]"
   ]
  },
  {
   "cell_type": "code",
   "execution_count": 9,
   "metadata": {},
   "outputs": [
    {
     "data": {
      "text/html": [
       "<div>\n",
       "<style>\n",
       "    .dataframe thead tr:only-child th {\n",
       "        text-align: right;\n",
       "    }\n",
       "\n",
       "    .dataframe thead th {\n",
       "        text-align: left;\n",
       "    }\n",
       "\n",
       "    .dataframe tbody tr th {\n",
       "        vertical-align: top;\n",
       "    }\n",
       "</style>\n",
       "<table border=\"1\" class=\"dataframe\">\n",
       "  <thead>\n",
       "    <tr style=\"text-align: right;\">\n",
       "      <th></th>\n",
       "      <th>comment</th>\n",
       "      <th>star</th>\n",
       "      <th>cutted_comment</th>\n",
       "      <th>cutted_comment_list</th>\n",
       "      <th>cutted_comment_new</th>\n",
       "    </tr>\n",
       "  </thead>\n",
       "  <tbody>\n",
       "    <tr>\n",
       "      <th>0</th>\n",
       "      <td>口味：不知道是我口高了，还是这家真不怎么样。 我感觉口味确实很一般很一般。上菜相当快，我敢说...</td>\n",
       "      <td>2</td>\n",
       "      <td>口味 ： 不 知道 是 我口 高 了 ， 还是 这家 真 不怎么样 。   我 感觉 口味 ...</td>\n",
       "      <td>[口味, ：, 不, 知道, 是, 我口, 高, 了, ，, 还是, 这家, 真, 不怎么样...</td>\n",
       "      <td>口味 ： 不 知道 是 我口 高 了 ， 还是 这家 真 不怎么样 。   我 感觉 口味 ...</td>\n",
       "    </tr>\n",
       "    <tr>\n",
       "      <th>1</th>\n",
       "      <td>菜品丰富质量好，服务也不错！很喜欢！</td>\n",
       "      <td>4</td>\n",
       "      <td>菜品 丰富 质量 好 ， 服务 也 不错 ！ 很 喜欢 ！</td>\n",
       "      <td>[菜品, 丰富, 质量, 好, ，, 服务, 也, 不错, ！, 很, 喜欢, ！]</td>\n",
       "      <td>菜品 丰富 质量 好 ， 服务 也 不错 ！ 很 喜欢 ！</td>\n",
       "    </tr>\n",
       "    <tr>\n",
       "      <th>2</th>\n",
       "      <td>说真的，不晓得有人排队的理由，香精香精香精香精，拜拜！</td>\n",
       "      <td>2</td>\n",
       "      <td>说真的 ， 不 晓得 有人 排队 的 理由 ， 香精 香精 香精 香精 ， 拜拜 ！</td>\n",
       "      <td>[说真的, ，, 不, 晓得, 有人, 排队, 的, 理由, ，, 香精, 香精, 香精, ...</td>\n",
       "      <td>说真的 ， 不 晓得 有人 排队 的 理由 ， 香精 香精 香精 香精 ， 拜拜 ！</td>\n",
       "    </tr>\n",
       "    <tr>\n",
       "      <th>3</th>\n",
       "      <td>菜量实惠，上菜还算比较快，疙瘩汤喝出了秋日的暖意，烧茄子吃出了大阪烧的味道，想吃土豆片也是口...</td>\n",
       "      <td>5</td>\n",
       "      <td>菜量 实惠 ， 上菜 还 算 比较 快 ， 疙瘩汤 喝出 了 秋日 的 暖意 ， 烧茄子 吃...</td>\n",
       "      <td>[菜量, 实惠, ，, 上菜, 还, 算, 比较, 快, ，, 疙瘩汤, 喝出, 了, 秋日...</td>\n",
       "      <td>菜量 实惠 ， 上菜 还 算 比较 快 ， 疙瘩汤 喝出 了 秋日 的 暖意 ， 烧茄子 吃...</td>\n",
       "    </tr>\n",
       "    <tr>\n",
       "      <th>4</th>\n",
       "      <td>先说我算是娜娜家风荷园开业就一直在这里吃 每次出去回来总想吃一回 有时觉得外面的西式简餐总是...</td>\n",
       "      <td>4</td>\n",
       "      <td>先说 我 算是 娜娜 家风 荷园 开业 就 一直 在 这里 吃   每次 出去 回来 总想 ...</td>\n",
       "      <td>[先说, 我, 算是, 娜娜, 家风, 荷园, 开业, 就, 一直, 在, 这里, 吃, 每...</td>\n",
       "      <td>先说 我 算是 娜娜 家风 荷园 开业 就 一直 在 这里 吃   每次 出去 回来 总想 ...</td>\n",
       "    </tr>\n",
       "  </tbody>\n",
       "</table>\n",
       "</div>"
      ],
      "text/plain": [
       "                                             comment  star  \\\n",
       "0  口味：不知道是我口高了，还是这家真不怎么样。 我感觉口味确实很一般很一般。上菜相当快，我敢说...     2   \n",
       "1                                 菜品丰富质量好，服务也不错！很喜欢！     4   \n",
       "2                        说真的，不晓得有人排队的理由，香精香精香精香精，拜拜！     2   \n",
       "3  菜量实惠，上菜还算比较快，疙瘩汤喝出了秋日的暖意，烧茄子吃出了大阪烧的味道，想吃土豆片也是口...     5   \n",
       "4  先说我算是娜娜家风荷园开业就一直在这里吃 每次出去回来总想吃一回 有时觉得外面的西式简餐总是...     4   \n",
       "\n",
       "                                      cutted_comment  \\\n",
       "0  口味 ： 不 知道 是 我口 高 了 ， 还是 这家 真 不怎么样 。   我 感觉 口味 ...   \n",
       "1                      菜品 丰富 质量 好 ， 服务 也 不错 ！ 很 喜欢 ！   \n",
       "2         说真的 ， 不 晓得 有人 排队 的 理由 ， 香精 香精 香精 香精 ， 拜拜 ！   \n",
       "3  菜量 实惠 ， 上菜 还 算 比较 快 ， 疙瘩汤 喝出 了 秋日 的 暖意 ， 烧茄子 吃...   \n",
       "4  先说 我 算是 娜娜 家风 荷园 开业 就 一直 在 这里 吃   每次 出去 回来 总想 ...   \n",
       "\n",
       "                                 cutted_comment_list  \\\n",
       "0  [口味, ：, 不, 知道, 是, 我口, 高, 了, ，, 还是, 这家, 真, 不怎么样...   \n",
       "1         [菜品, 丰富, 质量, 好, ，, 服务, 也, 不错, ！, 很, 喜欢, ！]   \n",
       "2  [说真的, ，, 不, 晓得, 有人, 排队, 的, 理由, ，, 香精, 香精, 香精, ...   \n",
       "3  [菜量, 实惠, ，, 上菜, 还, 算, 比较, 快, ，, 疙瘩汤, 喝出, 了, 秋日...   \n",
       "4  [先说, 我, 算是, 娜娜, 家风, 荷园, 开业, 就, 一直, 在, 这里, 吃, 每...   \n",
       "\n",
       "                                  cutted_comment_new  \n",
       "0  口味 ： 不 知道 是 我口 高 了 ， 还是 这家 真 不怎么样 。   我 感觉 口味 ...  \n",
       "1                      菜品 丰富 质量 好 ， 服务 也 不错 ！ 很 喜欢 ！  \n",
       "2         说真的 ， 不 晓得 有人 排队 的 理由 ， 香精 香精 香精 香精 ， 拜拜 ！  \n",
       "3  菜量 实惠 ， 上菜 还 算 比较 快 ， 疙瘩汤 喝出 了 秋日 的 暖意 ， 烧茄子 吃...  \n",
       "4  先说 我 算是 娜娜 家风 荷园 开业 就 一直 在 这里 吃   每次 出去 回来 总想 ...  "
      ]
     },
     "execution_count": 9,
     "metadata": {},
     "output_type": "execute_result"
    }
   ],
   "source": [
    "import re\n",
    "df['cutted_comment_new'] = df.cutted_comment.apply(lambda x: re.sub('[\\。\\，\\：\\！\\？\\《\\》\\【\\】]','',x))\n",
    "df.head()"
   ]
  },
  {
   "cell_type": "code",
   "execution_count": 10,
   "metadata": {},
   "outputs": [
    {
     "data": {
      "text/html": [
       "<div>\n",
       "<style>\n",
       "    .dataframe thead tr:only-child th {\n",
       "        text-align: right;\n",
       "    }\n",
       "\n",
       "    .dataframe thead th {\n",
       "        text-align: left;\n",
       "    }\n",
       "\n",
       "    .dataframe tbody tr th {\n",
       "        vertical-align: top;\n",
       "    }\n",
       "</style>\n",
       "<table border=\"1\" class=\"dataframe\">\n",
       "  <thead>\n",
       "    <tr style=\"text-align: right;\">\n",
       "      <th></th>\n",
       "      <th>comment</th>\n",
       "      <th>star</th>\n",
       "      <th>cutted_comment</th>\n",
       "      <th>cutted_comment_list</th>\n",
       "      <th>cutted_comment_new</th>\n",
       "    </tr>\n",
       "  </thead>\n",
       "  <tbody>\n",
       "    <tr>\n",
       "      <th>0</th>\n",
       "      <td>口味：不知道是我口高了，还是这家真不怎么样。 我感觉口味确实很一般很一般。上菜相当快，我敢说...</td>\n",
       "      <td>2</td>\n",
       "      <td>口味 ： 不 知道 是 我口 高 了 ， 还是 这家 真 不怎么样 。   我 感觉 口味 ...</td>\n",
       "      <td>[口味, ：, 不, 知道, 是, 我口, 高, 了, ，, 还是, 这家, 真, 不怎么样...</td>\n",
       "      <td>口味 ： 不 知道 是 我口 高 了 ， 还是 这家 真 不怎么样 。   我 感觉 口味 ...</td>\n",
       "    </tr>\n",
       "    <tr>\n",
       "      <th>1</th>\n",
       "      <td>菜品丰富质量好，服务也不错！很喜欢！</td>\n",
       "      <td>4</td>\n",
       "      <td>菜品 丰富 质量 好 ， 服务 也 不错 ！ 很 喜欢 ！</td>\n",
       "      <td>[菜品, 丰富, 质量, 好, ，, 服务, 也, 不错, ！, 很, 喜欢, ！]</td>\n",
       "      <td>菜品 丰富 质量 好 ， 服务 也 不错 ！ 很 喜欢 ！</td>\n",
       "    </tr>\n",
       "    <tr>\n",
       "      <th>2</th>\n",
       "      <td>说真的，不晓得有人排队的理由，香精香精香精香精，拜拜！</td>\n",
       "      <td>2</td>\n",
       "      <td>说真的 ， 不 晓得 有人 排队 的 理由 ， 香精 香精 香精 香精 ， 拜拜 ！</td>\n",
       "      <td>[说真的, ，, 不, 晓得, 有人, 排队, 的, 理由, ，, 香精, 香精, 香精, ...</td>\n",
       "      <td>说真的 ， 不 晓得 有人 排队 的 理由 ， 香精 香精 香精 香精 ， 拜拜 ！</td>\n",
       "    </tr>\n",
       "    <tr>\n",
       "      <th>3</th>\n",
       "      <td>菜量实惠，上菜还算比较快，疙瘩汤喝出了秋日的暖意，烧茄子吃出了大阪烧的味道，想吃土豆片也是口...</td>\n",
       "      <td>5</td>\n",
       "      <td>菜量 实惠 ， 上菜 还 算 比较 快 ， 疙瘩汤 喝出 了 秋日 的 暖意 ， 烧茄子 吃...</td>\n",
       "      <td>[菜量, 实惠, ，, 上菜, 还, 算, 比较, 快, ，, 疙瘩汤, 喝出, 了, 秋日...</td>\n",
       "      <td>菜量 实惠 ， 上菜 还 算 比较 快 ， 疙瘩汤 喝出 了 秋日 的 暖意 ， 烧茄子 吃...</td>\n",
       "    </tr>\n",
       "    <tr>\n",
       "      <th>4</th>\n",
       "      <td>先说我算是娜娜家风荷园开业就一直在这里吃 每次出去回来总想吃一回 有时觉得外面的西式简餐总是...</td>\n",
       "      <td>4</td>\n",
       "      <td>先说 我 算是 娜娜 家风 荷园 开业 就 一直 在 这里 吃   每次 出去 回来 总想 ...</td>\n",
       "      <td>[先说, 我, 算是, 娜娜, 家风, 荷园, 开业, 就, 一直, 在, 这里, 吃, 每...</td>\n",
       "      <td>先说 我 算是 娜娜 家风 荷园 开业 就 一直 在 这里 吃   每次 出去 回来 总想 ...</td>\n",
       "    </tr>\n",
       "  </tbody>\n",
       "</table>\n",
       "</div>"
      ],
      "text/plain": [
       "                                             comment  star  \\\n",
       "0  口味：不知道是我口高了，还是这家真不怎么样。 我感觉口味确实很一般很一般。上菜相当快，我敢说...     2   \n",
       "1                                 菜品丰富质量好，服务也不错！很喜欢！     4   \n",
       "2                        说真的，不晓得有人排队的理由，香精香精香精香精，拜拜！     2   \n",
       "3  菜量实惠，上菜还算比较快，疙瘩汤喝出了秋日的暖意，烧茄子吃出了大阪烧的味道，想吃土豆片也是口...     5   \n",
       "4  先说我算是娜娜家风荷园开业就一直在这里吃 每次出去回来总想吃一回 有时觉得外面的西式简餐总是...     4   \n",
       "\n",
       "                                      cutted_comment  \\\n",
       "0  口味 ： 不 知道 是 我口 高 了 ， 还是 这家 真 不怎么样 。   我 感觉 口味 ...   \n",
       "1                      菜品 丰富 质量 好 ， 服务 也 不错 ！ 很 喜欢 ！   \n",
       "2         说真的 ， 不 晓得 有人 排队 的 理由 ， 香精 香精 香精 香精 ， 拜拜 ！   \n",
       "3  菜量 实惠 ， 上菜 还 算 比较 快 ， 疙瘩汤 喝出 了 秋日 的 暖意 ， 烧茄子 吃...   \n",
       "4  先说 我 算是 娜娜 家风 荷园 开业 就 一直 在 这里 吃   每次 出去 回来 总想 ...   \n",
       "\n",
       "                                 cutted_comment_list  \\\n",
       "0  [口味, ：, 不, 知道, 是, 我口, 高, 了, ，, 还是, 这家, 真, 不怎么样...   \n",
       "1         [菜品, 丰富, 质量, 好, ，, 服务, 也, 不错, ！, 很, 喜欢, ！]   \n",
       "2  [说真的, ，, 不, 晓得, 有人, 排队, 的, 理由, ，, 香精, 香精, 香精, ...   \n",
       "3  [菜量, 实惠, ，, 上菜, 还, 算, 比较, 快, ，, 疙瘩汤, 喝出, 了, 秋日...   \n",
       "4  [先说, 我, 算是, 娜娜, 家风, 荷园, 开业, 就, 一直, 在, 这里, 吃, 每...   \n",
       "\n",
       "                                  cutted_comment_new  \n",
       "0  口味 ： 不 知道 是 我口 高 了 ， 还是 这家 真 不怎么样 。   我 感觉 口味 ...  \n",
       "1                      菜品 丰富 质量 好 ， 服务 也 不错 ！ 很 喜欢 ！  \n",
       "2         说真的 ， 不 晓得 有人 排队 的 理由 ， 香精 香精 香精 香精 ， 拜拜 ！  \n",
       "3  菜量 实惠 ， 上菜 还 算 比较 快 ， 疙瘩汤 喝出 了 秋日 的 暖意 ， 烧茄子 吃...  \n",
       "4  先说 我 算是 娜娜 家风 荷园 开业 就 一直 在 这里 吃   每次 出去 回来 总想 ...  "
      ]
     },
     "execution_count": 10,
     "metadata": {},
     "output_type": "execute_result"
    }
   ],
   "source": [
    "data = df\n",
    "data.cutted_comment = data.cutted_comment.apply(lambda x: re.sub('[\\。\\，\\：\\！\\？\\《\\》\\【\\】]','',x))\n",
    "data.head()"
   ]
  },
  {
   "cell_type": "markdown",
   "metadata": {},
   "source": [
    "## Data Information"
   ]
  },
  {
   "cell_type": "code",
   "execution_count": 11,
   "metadata": {},
   "outputs": [
    {
     "data": {
      "text/plain": [
       "5    500\n",
       "4    500\n",
       "2    500\n",
       "1    500\n",
       "Name: star, dtype: int64"
      ]
     },
     "execution_count": 11,
     "metadata": {},
     "output_type": "execute_result"
    }
   ],
   "source": [
    "df.star.value_counts()\n",
    "# There is no comments with star 3"
   ]
  },
  {
   "cell_type": "code",
   "execution_count": 12,
   "metadata": {
    "collapsed": true
   },
   "outputs": [],
   "source": [
    "def words_count(src, stopwords, flag = 0):\n",
    "    words_count_dict = {}\n",
    "    for rows in src:\n",
    "        for text in rows:\n",
    "            if text in stopwords: \n",
    "                continue\n",
    "            if text in words_count_dict:\n",
    "                words_count_dict[text] += 1\n",
    "            else:\n",
    "                words_count_dict[text] = 1\n",
    "    if flag == 1:\n",
    "        return words_count_dict # Dict form\n",
    "    sort_dict = sorted(words_count_dict,key=lambda x:words_count_dict[x], reverse=True)\n",
    "    return pd.DataFrame([[k,words_count_dict[k]] for k in sort_dict], columns = ['words', 'frequence']) # df form"
   ]
  },
  {
   "cell_type": "code",
   "execution_count": 13,
   "metadata": {},
   "outputs": [
    {
     "name": "stderr",
     "output_type": "stream",
     "text": [
      "/Users/chenzhe/anaconda2/lib/python2.7/site-packages/ipykernel_launcher.py:5: UnicodeWarning: Unicode equal comparison failed to convert both arguments to Unicode - interpreting them as being unequal\n",
      "  \"\"\"\n"
     ]
    },
    {
     "data": {
      "text/html": [
       "<div>\n",
       "<style>\n",
       "    .dataframe thead tr:only-child th {\n",
       "        text-align: right;\n",
       "    }\n",
       "\n",
       "    .dataframe thead th {\n",
       "        text-align: left;\n",
       "    }\n",
       "\n",
       "    .dataframe tbody tr th {\n",
       "        vertical-align: top;\n",
       "    }\n",
       "</style>\n",
       "<table border=\"1\" class=\"dataframe\">\n",
       "  <thead>\n",
       "    <tr style=\"text-align: right;\">\n",
       "      <th></th>\n",
       "      <th>words</th>\n",
       "      <th>frequence</th>\n",
       "    </tr>\n",
       "  </thead>\n",
       "  <tbody>\n",
       "    <tr>\n",
       "      <th>0</th>\n",
       "      <td>，</td>\n",
       "      <td>10782</td>\n",
       "    </tr>\n",
       "    <tr>\n",
       "      <th>1</th>\n",
       "      <td>的</td>\n",
       "      <td>5298</td>\n",
       "    </tr>\n",
       "    <tr>\n",
       "      <th>2</th>\n",
       "      <td>了</td>\n",
       "      <td>3687</td>\n",
       "    </tr>\n",
       "    <tr>\n",
       "      <th>3</th>\n",
       "      <td>。</td>\n",
       "      <td>3072</td>\n",
       "    </tr>\n",
       "    <tr>\n",
       "      <th>4</th>\n",
       "      <td>！</td>\n",
       "      <td>1488</td>\n",
       "    </tr>\n",
       "    <tr>\n",
       "      <th>5</th>\n",
       "      <td>是</td>\n",
       "      <td>1475</td>\n",
       "    </tr>\n",
       "    <tr>\n",
       "      <th>6</th>\n",
       "      <td>吃</td>\n",
       "      <td>1263</td>\n",
       "    </tr>\n",
       "    <tr>\n",
       "      <th>7</th>\n",
       "      <td>很</td>\n",
       "      <td>1251</td>\n",
       "    </tr>\n",
       "    <tr>\n",
       "      <th>8</th>\n",
       "      <td>也</td>\n",
       "      <td>1190</td>\n",
       "    </tr>\n",
       "    <tr>\n",
       "      <th>9</th>\n",
       "      <td>都</td>\n",
       "      <td>1131</td>\n",
       "    </tr>\n",
       "  </tbody>\n",
       "</table>\n",
       "</div>"
      ],
      "text/plain": [
       "  words  frequence\n",
       "0     ，      10782\n",
       "1     的       5298\n",
       "2     了       3687\n",
       "3     。       3072\n",
       "4     ！       1488\n",
       "5     是       1475\n",
       "6     吃       1263\n",
       "7     很       1251\n",
       "8     也       1190\n",
       "9     都       1131"
      ]
     },
     "execution_count": 13,
     "metadata": {},
     "output_type": "execute_result"
    }
   ],
   "source": [
    "df_words_count = words_count(df.cutted_comment_list, stopwords)\n",
    "df_words_count_dict = words_count(df.cutted_comment_list, stopwords, 1)\n",
    "df_words_count.head(10)"
   ]
  },
  {
   "cell_type": "code",
   "execution_count": 14,
   "metadata": {},
   "outputs": [
    {
     "data": {
      "text/plain": [
       "5200"
      ]
     },
     "execution_count": 14,
     "metadata": {},
     "output_type": "execute_result"
    }
   ],
   "source": [
    "df_count_once = [x for x in df_words_count_dict if df_words_count_dict[x] == 1]\n",
    "df_count_twice = [x for x in df_words_count_dict if df_words_count_dict[x] <= 2]\n",
    "df_count_10 = [x for x in df_words_count_dict if df_words_count_dict[x] <= 10]\n",
    "df_count_15 = [x for x in df_words_count_dict if df_words_count_dict[x] <= 15]\n",
    "df_count_20 = [x for x in df_words_count_dict if df_words_count_dict[x] <= 20]\n",
    "len(df_count_once)"
   ]
  },
  {
   "cell_type": "code",
   "execution_count": 15,
   "metadata": {
    "collapsed": true
   },
   "outputs": [],
   "source": [
    "df_count_g_100 = [x for x in df_words_count_dict if df_words_count_dict[x] >= 100]\n",
    "df_count_g_80 = [x for x in df_words_count_dict if df_words_count_dict[x] >= 80]\n",
    "df_count_g_50 = [x for x in df_words_count_dict if df_words_count_dict[x] >= 50]\n"
   ]
  },
  {
   "cell_type": "code",
   "execution_count": 16,
   "metadata": {},
   "outputs": [
    {
     "name": "stderr",
     "output_type": "stream",
     "text": [
      "/Users/chenzhe/anaconda2/lib/python2.7/site-packages/ipykernel_launcher.py:5: UnicodeWarning: Unicode equal comparison failed to convert both arguments to Unicode - interpreting them as being unequal\n",
      "  \"\"\"\n"
     ]
    },
    {
     "name": "stdout",
     "output_type": "stream",
     "text": [
      "Top 10 words out of total 3323 appear most in comments with star 5\n",
      "  words  frequence\n",
      "0     ，       2250\n",
      "1     的       1068\n",
      "2     了        576\n",
      "3     。        536\n",
      "4     很        443\n",
      "5    不错        316\n",
      "6     也        279\n",
      "7     吃        269\n",
      "8     是        254\n",
      "9     好        246\n",
      "Top 10 words out of total 4180 appear most in comments with star 4\n",
      "  words  frequence\n",
      "0     ，       2804\n",
      "1     的       1336\n",
      "2     。        819\n",
      "3     了        766\n",
      "4     很        366\n",
      "5     吃        347\n",
      "6    味道        317\n",
      "7    不错        316\n",
      "8     是        315\n",
      "9     也        300\n",
      "Top 10 words out of total 4461 appear most in comments with star 2\n",
      "  words  frequence\n",
      "0     ，       2843\n",
      "1     的       1441\n",
      "2     了       1109\n",
      "3     。        937\n",
      "4     是        467\n",
      "5     ！        415\n",
      "6     不        377\n",
      "7     都        341\n",
      "8     吃        334\n",
      "9     也        304\n",
      "Top 10 words out of total 4822 appear most in comments with star 1\n",
      "  words  frequence\n",
      "0     ，       2885\n",
      "1     的       1453\n",
      "2     了       1236\n",
      "3     。        780\n",
      "4     ！        626\n",
      "5     是        439\n",
      "6     不        394\n",
      "7     我        374\n",
      "8     就        360\n",
      "9     都        336\n"
     ]
    }
   ],
   "source": [
    "# Words frequence of comments of various star\n",
    "df_star5_count = words_count(df[df.star == 5].cutted_comment_list, stopwords)\n",
    "df_star4_count = words_count(df[df.star == 4].cutted_comment_list, stopwords)\n",
    "df_star2_count = words_count(df[df.star == 2].cutted_comment_list, stopwords)\n",
    "df_star1_count = words_count(df[df.star == 1].cutted_comment_list, stopwords)\n",
    "print('Top 10 words out of total %d appear most in comments with star 5'%df_star5_count.shape[0])\n",
    "print(df_star5_count.head(10))\n",
    "print('Top 10 words out of total %d appear most in comments with star 4'%df_star4_count.shape[0])\n",
    "print(df_star4_count.head(10))\n",
    "print('Top 10 words out of total %d appear most in comments with star 2'%df_star2_count.shape[0])\n",
    "print(df_star2_count.head(10))\n",
    "print('Top 10 words out of total %d appear most in comments with star 1'%df_star1_count.shape[0])\n",
    "print(df_star1_count.head(10))"
   ]
  },
  {
   "cell_type": "code",
   "execution_count": 17,
   "metadata": {
    "collapsed": true
   },
   "outputs": [],
   "source": [
    "# Words appears in both star4 comments and star5 comments\n",
    "sim_45 = [x for x in df_star5_count.words[:50].values if x in df_star4_count.words[:50].values]\n",
    "# Words appears in both star1 comments and star2 comments\n",
    "sim_12 = [x for x in df_star1_count.words[:50].values if x in df_star2_count.words[:50].values]"
   ]
  },
  {
   "cell_type": "code",
   "execution_count": 18,
   "metadata": {},
   "outputs": [
    {
     "data": {
      "image/png": "[encoded data removed]",
      "text/plain": [
       "<matplotlib.figure.Figure at 0x1184301d0>"
      ]
     },
     "metadata": {},
     "output_type": "display_data"
    }
   ],
   "source": [
    "# Histogram of the word frequence\n",
    "import matplotlib.pyplot as plt\n",
    "plt.hist(df_words_count[df_words_count.frequence < 400].frequence.values, 40, alpha = 0.75)\n",
    "plt.axis([0, 150, 0, 9000])\n",
    "plt.title('Histogram of word frequency')\n",
    "plt.show()"
   ]
  },
  {
   "cell_type": "markdown",
   "metadata": {},
   "source": [
    " ### Word Cloud"
   ]
  },
  {
   "cell_type": "code",
   "execution_count": 21,
   "metadata": {},
   "outputs": [
    {
     "name": "stdout",
     "output_type": "stream",
     "text": [
      "Star 5 word cloud:\n"
     ]
    },
    {
     "data": {
      "image/png": "[encoded data removed]",
      "text/plain": [
       "<matplotlib.figure.Figure at 0x1209a5850>"
      ]
     },
     "metadata": {},
     "output_type": "display_data"
    },
    {
     "name": "stdout",
     "output_type": "stream",
     "text": [
      "Star 4 word cloud:\n"
     ]
    },
    {
     "data": {
      "image/png": "[encoded data removed]",
      "text/plain": [
       "<matplotlib.figure.Figure at 0x120969590>"
      ]
     },
     "metadata": {},
     "output_type": "display_data"
    },
    {
     "name": "stdout",
     "output_type": "stream",
     "text": [
      "Star 2 word cloud:\n"
     ]
    },
    {
     "data": {
      "image/png": "[encoded data removed]",
      "text/plain": [
       "<matplotlib.figure.Figure at 0x10f7d9550>"
      ]
     },
     "metadata": {},
     "output_type": "display_data"
    },
    {
     "name": "stdout",
     "output_type": "stream",
     "text": [
      "Star 1 word cloud:\n"
     ]
    },
    {
     "data": {
      "image/png": "[encoded data removed]",
      "text/plain": [
       "<matplotlib.figure.Figure at 0x121285e90>"
      ]
     },
     "metadata": {},
     "output_type": "display_data"
    }
   ],
   "source": [
    "data_cutted = pd.DataFrame({\n",
    "    'Comment': df['cutted_comment'],\n",
    "    'Star': df['star']\n",
    "})\n",
    "\n",
    "from PIL import Image\n",
    "import numpy as np\n",
    "import matplotlib.pyplot as plt\n",
    "\n",
    "from wordcloud import WordCloud, STOPWORDS, ImageColorGenerator\n",
    "\n",
    "sw = set()\n",
    "tempt = get_custom_stopwords(\"./data/stopwordsHIT_utf8.txt\")\n",
    "\n",
    "\n",
    "sw.update([u\"好吃\",u\"了\",u\"是\",u\"吃\",u\"很\",u\"也\",u\"都\",u\"就\",u\"还\",u\"我\",u\"去\",u\"菜\",u\"有\",u\"说\",u\"人\",u\"点\",u\"和\",u\"我们\",u\"就是\",u\"不\",u\"味道\",u\"可以\",u\"多\",u\"来\",u\"没\",u\"在\",u\"吧\",u\"服务员\",u\"一个\",u\"没有\",u\"不错\",u\"一般\",u\"上\",u\"这\",u\"太\",u\"你\",u\"再\",u\"给\",u\"等\",u\"到\",u\"要\",u\"什么\",u\"好\",u\"号\",u\"啊\",u\"这么\",u\"但是\"])\n",
    "\n",
    "logo = np.array(Image.open(\"./data/logo.png\"))\n",
    "# image_colors = ImageColorGenerator(logo)\n",
    "\n",
    "\n",
    "wc = WordCloud(\n",
    "    background_color = \"white\", \n",
    "    font_path='./input/ziti.ttf', \n",
    "    mask = logo, \n",
    "    stopwords = sw)\n",
    "\n",
    "for i in [5,4,2,1]:\n",
    "    print('Star '+str(i)+' word cloud:')\n",
    "    wc.generate(''.join(data_cutted['Comment'][data_cutted['Star'] == i]))\n",
    "    plt.imshow(wc, interpolation = \"bilinear\")\n",
    "    plt.axis(\"off\")\n",
    "    plt.show()\n",
    "    wc.to_file('star'+str(i)+'.png')"
   ]
  },
  {
   "cell_type": "markdown",
   "metadata": {},
   "source": [
    "## Vectorization and directly classfication"
   ]
  },
  {
   "cell_type": "code",
   "execution_count": 18,
   "metadata": {},
   "outputs": [
    {
     "name": "stderr",
     "output_type": "stream",
     "text": [
      "C:\\Users\\Claude\\Anaconda3\\lib\\site-packages\\sklearn\\cross_validation.py:44: DeprecationWarning: This module was deprecated in version 0.18 in favor of the model_selection module into which all the refactored classes and functions are moved. Also note that the interface of the new CV iterators are different from that of this module. This module will be removed in 0.20.\n",
      "  \"This module will be removed in 0.20.\", DeprecationWarning)\n"
     ]
    }
   ],
   "source": [
    "from sklearn.cross_validation import train_test_split\n",
    "from sklearn.feature_extraction.text import TfidfVectorizer"
   ]
  },
  {
   "cell_type": "code",
   "execution_count": 19,
   "metadata": {
    "collapsed": true
   },
   "outputs": [],
   "source": [
    "new_stopwords = stopwords\n",
    "# new_stopwords.extend(df_count_twice) \n",
    "new_stopwords.extend(df_count_10) # Adding the words who appear less than 10 times to stopwords\n",
    "# new_stopwords.extend(df_count_g_100) # words who appear greater than 100 times\n",
    "\n",
    "vectorizer = TfidfVectorizer(ngram_range=(1, 2), stop_words = new_stopwords, norm = 'l2', max_features = 2000)\n",
    "\n",
    "x = df.cutted_comment\n",
    "Y = df.star\n",
    "\n",
    "train_x, test_x, train_y,  test_y = train_test_split(x, Y, test_size = 0.6, random_state = 40)\n",
    "\n",
    "new_train_x = vectorizer.fit_transform(train_x.values)\n",
    "new_test_x = vectorizer.transform(test_x.values)"
   ]
  },
  {
   "cell_type": "code",
   "execution_count": 20,
   "metadata": {},
   "outputs": [
    {
     "name": "stdout",
     "output_type": "stream",
     "text": [
      "             precision    recall  f1-score   support\n",
      "\n",
      "          1       0.59      0.59      0.59       301\n",
      "          2       0.47      0.36      0.41       305\n",
      "          4       0.39      0.64      0.48       285\n",
      "          5       0.55      0.34      0.42       309\n",
      "\n",
      "avg / total       0.50      0.48      0.47      1200\n",
      "\n",
      "Number of mislabeled points out of a total 1200 points : 624\n"
     ]
    },
    {
     "data": {
      "text/plain": [
       "array([[179,  70,  42,  10],\n",
       "       [ 97, 111,  77,  20],\n",
       "       [ 16,  33, 181,  55],\n",
       "       [ 13,  21, 170, 105]])"
      ]
     },
     "execution_count": 20,
     "metadata": {},
     "output_type": "execute_result"
    }
   ],
   "source": [
    "import sklearn.naive_bayes\n",
    "import sklearn.svm\n",
    "from sklearn.ensemble import RandomForestClassifier\n",
    "import sklearn.neighbors\n",
    "import sklearn.naive_bayes\n",
    "# Try various kinds of models\n",
    "\n",
    "\n",
    "# moodel = sklearn.neighbors.KNeighborsClassifier(n_neighbors=10)\n",
    "# model = RandomForestClassifier(n_estimators = 15)\n",
    "# model = sklearn.svm.LinearSVC()\n",
    "\n",
    "model = sklearn.naive_bayes.MultinomialNB()\n",
    "model.fit(new_train_x, train_y.values)\n",
    "predict_y = model.predict(new_test_x)\n",
    "print(sklearn.metrics.classification_report(test_y.values, predict_y))\n",
    "print(\"Number of mislabeled points out of a total %d points : %d\" % (test_x.shape[0],(test_y != predict_y).sum()))\n",
    "\n",
    "from sklearn.metrics import confusion_matrix\n",
    "labels = [1,2,4,5]\n",
    "conf_mat = confusion_matrix(test_y, predict_y, labels = labels) \n",
    "conf_mat"
   ]
  },
  {
   "cell_type": "code",
   "execution_count": 22,
   "metadata": {},
   "outputs": [
    {
     "name": "stdout",
     "output_type": "stream",
     "text": [
      "             precision    recall  f1-score   support\n",
      "\n",
      "          1       0.88      0.92      0.90       199\n",
      "          2       0.91      0.79      0.85       195\n",
      "          4       0.79      0.92      0.85       215\n",
      "          5       0.91      0.80      0.85       191\n",
      "\n",
      "avg / total       0.87      0.86      0.86       800\n",
      "\n",
      "[[184   6   6   3]\n",
      " [ 19 155  18   3]\n",
      " [  2   6 198   9]\n",
      " [  4   4  30 153]]\n"
     ]
    }
   ],
   "source": [
    "# Check model's performence on the training set\n",
    "print(sklearn.metrics.classification_report(train_y,model.predict(new_train_x)))\n",
    "print(confusion_matrix(train_y, model.predict(new_train_x), labels = [1,2,4,5]))"
   ]
  },
  {
   "cell_type": "code",
   "execution_count": 23,
   "metadata": {
    "scrolled": true
   },
   "outputs": [
    {
     "data": {
      "image/png": "[encoded data removed]",
      "text/plain": [
       "<matplotlib.figure.Figure at 0xddcb5f8>"
      ]
     },
     "metadata": {},
     "output_type": "display_data"
    },
    {
     "name": "stdout",
     "output_type": "stream",
     "text": [
      "the best test_size: 0.8\n",
      "Directly using naive bayes model, the maximal accuracy is about 0.4945\n"
     ]
    }
   ],
   "source": [
    "# Cross validation\n",
    "from sklearn import model_selection\n",
    "import matplotlib.pyplot as plt\n",
    "import numpy as np\n",
    "\n",
    "\n",
    "vectorizer = TfidfVectorizer(ngram_range=(1, 2), stop_words = new_stopwords)\n",
    "X,Y = vectorizer.fit_transform(df.cutted_comment), df.star\n",
    "\n",
    "model = sklearn.naive_bayes.MultinomialNB()\n",
    "\n",
    "# model = sklearn.svm.SVC()\n",
    "g_train_sizes = [0.1,0.2,0.3,0.4,0.5,0.6,0.7,0.8]\n",
    "train_sizes,train_score,test_score = model_selection.learning_curve(model, X, Y,train_sizes=g_train_sizes,cv=10,scoring='accuracy')\n",
    "train_error =  1- np.mean(train_score,axis=1)\n",
    "test_error = 1- np.mean(test_score,axis=1)\n",
    "\n",
    "plt.plot(train_sizes,train_error,'o-',color = 'r',label = 'training')\n",
    "plt.plot(train_sizes,test_error,'o-',color = 'g',label = 'testing')\n",
    "\n",
    "plt.legend(loc='best')\n",
    "plt.xlabel(\"traing samples\")\n",
    "plt.ylabel('error')\n",
    "plt.show()\n",
    "print(\"the best test_size: \" + str(g_train_sizes[np.argmin(test_error)]))\n",
    "print(\"Directly using naive bayes model, the maximal accuracy is about \"+str(1-np.min(test_error)))"
   ]
  },
  {
   "cell_type": "markdown",
   "metadata": {},
   "source": [
    "## Train model on data of different star respectly"
   ]
  },
  {
   "cell_type": "code",
   "execution_count": 24,
   "metadata": {},
   "outputs": [
    {
     "data": {
      "text/html": [
       "<div>\n",
       "<style>\n",
       "    .dataframe thead tr:only-child th {\n",
       "        text-align: right;\n",
       "    }\n",
       "\n",
       "    .dataframe thead th {\n",
       "        text-align: left;\n",
       "    }\n",
       "\n",
       "    .dataframe tbody tr th {\n",
       "        vertical-align: top;\n",
       "    }\n",
       "</style>\n",
       "<table border=\"1\" class=\"dataframe\">\n",
       "  <thead>\n",
       "    <tr style=\"text-align: right;\">\n",
       "      <th></th>\n",
       "      <th>comment</th>\n",
       "      <th>star</th>\n",
       "      <th>cutted_comment</th>\n",
       "      <th>cutted_comment_list</th>\n",
       "      <th>cutted_comment_new</th>\n",
       "      <th>good</th>\n",
       "    </tr>\n",
       "  </thead>\n",
       "  <tbody>\n",
       "    <tr>\n",
       "      <th>0</th>\n",
       "      <td>口味：不知道是我口高了，还是这家真不怎么样。 我感觉口味确实很一般很一般。上菜相当快，我敢说...</td>\n",
       "      <td>2</td>\n",
       "      <td>口味  不 知道 是 我口 高 了  还是 这家 真 不怎么样    我 感觉 口味 确实 ...</td>\n",
       "      <td>[口味, ：, 不, 知道, 是, 我口, 高, 了, ，, 还是, 这家, 真, 不怎么样...</td>\n",
       "      <td>口味  不 知道 是 我口 高 了  还是 这家 真 不怎么样    我 感觉 口味 确实 ...</td>\n",
       "      <td>0</td>\n",
       "    </tr>\n",
       "    <tr>\n",
       "      <th>1</th>\n",
       "      <td>菜品丰富质量好，服务也不错！很喜欢！</td>\n",
       "      <td>4</td>\n",
       "      <td>菜品 丰富 质量 好  服务 也 不错  很 喜欢</td>\n",
       "      <td>[菜品, 丰富, 质量, 好, ，, 服务, 也, 不错, ！, 很, 喜欢, ！]</td>\n",
       "      <td>菜品 丰富 质量 好  服务 也 不错  很 喜欢</td>\n",
       "      <td>1</td>\n",
       "    </tr>\n",
       "    <tr>\n",
       "      <th>2</th>\n",
       "      <td>说真的，不晓得有人排队的理由，香精香精香精香精，拜拜！</td>\n",
       "      <td>2</td>\n",
       "      <td>说真的  不 晓得 有人 排队 的 理由  香精 香精 香精 香精  拜拜</td>\n",
       "      <td>[说真的, ，, 不, 晓得, 有人, 排队, 的, 理由, ，, 香精, 香精, 香精, ...</td>\n",
       "      <td>说真的  不 晓得 有人 排队 的 理由  香精 香精 香精 香精  拜拜</td>\n",
       "      <td>0</td>\n",
       "    </tr>\n",
       "    <tr>\n",
       "      <th>3</th>\n",
       "      <td>菜量实惠，上菜还算比较快，疙瘩汤喝出了秋日的暖意，烧茄子吃出了大阪烧的味道，想吃土豆片也是口...</td>\n",
       "      <td>5</td>\n",
       "      <td>菜量 实惠  上菜 还 算 比较 快  疙瘩汤 喝出 了 秋日 的 暖意  烧茄子 吃 出 ...</td>\n",
       "      <td>[菜量, 实惠, ，, 上菜, 还, 算, 比较, 快, ，, 疙瘩汤, 喝出, 了, 秋日...</td>\n",
       "      <td>菜量 实惠  上菜 还 算 比较 快  疙瘩汤 喝出 了 秋日 的 暖意  烧茄子 吃 出 ...</td>\n",
       "      <td>1</td>\n",
       "    </tr>\n",
       "    <tr>\n",
       "      <th>4</th>\n",
       "      <td>先说我算是娜娜家风荷园开业就一直在这里吃 每次出去回来总想吃一回 有时觉得外面的西式简餐总是...</td>\n",
       "      <td>4</td>\n",
       "      <td>先说 我 算是 娜娜 家风 荷园 开业 就 一直 在 这里 吃   每次 出去 回来 总想 ...</td>\n",
       "      <td>[先说, 我, 算是, 娜娜, 家风, 荷园, 开业, 就, 一直, 在, 这里, 吃, 每...</td>\n",
       "      <td>先说 我 算是 娜娜 家风 荷园 开业 就 一直 在 这里 吃   每次 出去 回来 总想 ...</td>\n",
       "      <td>1</td>\n",
       "    </tr>\n",
       "  </tbody>\n",
       "</table>\n",
       "</div>"
      ],
      "text/plain": [
       "                                             comment  star  \\\n",
       "0  口味：不知道是我口高了，还是这家真不怎么样。 我感觉口味确实很一般很一般。上菜相当快，我敢说...     2   \n",
       "1                                 菜品丰富质量好，服务也不错！很喜欢！     4   \n",
       "2                        说真的，不晓得有人排队的理由，香精香精香精香精，拜拜！     2   \n",
       "3  菜量实惠，上菜还算比较快，疙瘩汤喝出了秋日的暖意，烧茄子吃出了大阪烧的味道，想吃土豆片也是口...     5   \n",
       "4  先说我算是娜娜家风荷园开业就一直在这里吃 每次出去回来总想吃一回 有时觉得外面的西式简餐总是...     4   \n",
       "\n",
       "                                      cutted_comment  \\\n",
       "0  口味  不 知道 是 我口 高 了  还是 这家 真 不怎么样    我 感觉 口味 确实 ...   \n",
       "1                         菜品 丰富 质量 好  服务 也 不错  很 喜欢    \n",
       "2             说真的  不 晓得 有人 排队 的 理由  香精 香精 香精 香精  拜拜    \n",
       "3  菜量 实惠  上菜 还 算 比较 快  疙瘩汤 喝出 了 秋日 的 暖意  烧茄子 吃 出 ...   \n",
       "4  先说 我 算是 娜娜 家风 荷园 开业 就 一直 在 这里 吃   每次 出去 回来 总想 ...   \n",
       "\n",
       "                                 cutted_comment_list  \\\n",
       "0  [口味, ：, 不, 知道, 是, 我口, 高, 了, ，, 还是, 这家, 真, 不怎么样...   \n",
       "1         [菜品, 丰富, 质量, 好, ，, 服务, 也, 不错, ！, 很, 喜欢, ！]   \n",
       "2  [说真的, ，, 不, 晓得, 有人, 排队, 的, 理由, ，, 香精, 香精, 香精, ...   \n",
       "3  [菜量, 实惠, ，, 上菜, 还, 算, 比较, 快, ，, 疙瘩汤, 喝出, 了, 秋日...   \n",
       "4  [先说, 我, 算是, 娜娜, 家风, 荷园, 开业, 就, 一直, 在, 这里, 吃, 每...   \n",
       "\n",
       "                                  cutted_comment_new  good  \n",
       "0  口味  不 知道 是 我口 高 了  还是 这家 真 不怎么样    我 感觉 口味 确实 ...     0  \n",
       "1                         菜品 丰富 质量 好  服务 也 不错  很 喜欢      1  \n",
       "2             说真的  不 晓得 有人 排队 的 理由  香精 香精 香精 香精  拜拜      0  \n",
       "3  菜量 实惠  上菜 还 算 比较 快  疙瘩汤 喝出 了 秋日 的 暖意  烧茄子 吃 出 ...     1  \n",
       "4  先说 我 算是 娜娜 家风 荷园 开业 就 一直 在 这里 吃   每次 出去 回来 总想 ...     1  "
      ]
     },
     "execution_count": 24,
     "metadata": {},
     "output_type": "execute_result"
    }
   ],
   "source": [
    "df['good'] = pd.Series([(lambda x: 0 if x<3 else 1)(x) for x in df.star])\n",
    "\n",
    "df.head()"
   ]
  },
  {
   "cell_type": "markdown",
   "metadata": {},
   "source": [
    "### Classify the column 'good'"
   ]
  },
  {
   "cell_type": "code",
   "execution_count": 25,
   "metadata": {},
   "outputs": [
    {
     "name": "stdout",
     "output_type": "stream",
     "text": [
      "             precision    recall  f1-score   support\n",
      "\n",
      "     1 or 2       0.89      0.84      0.86       209\n",
      "     4 or 5       0.83      0.89      0.86       191\n",
      "\n",
      "avg / total       0.86      0.86      0.86       400\n",
      "\n",
      "Number of mislabeled points out of a total 400 points : 55\n"
     ]
    },
    {
     "data": {
      "text/plain": [
       "array([[175,  34],\n",
       "       [ 21, 170]])"
      ]
     },
     "execution_count": 25,
     "metadata": {},
     "output_type": "execute_result"
    }
   ],
   "source": [
    "# Classify on the 'good' column\n",
    "\n",
    "train_g_x, test_g_x, train_g_y,  test_g_y = train_test_split(df.cutted_comment, df.good, test_size = 0.2, random_state = 50)\n",
    "\n",
    "new_stopwords = stopwords\n",
    "new_stopwords.extend(df_count_10) \n",
    "# new_stopwords.extend(df_count_g_100)\n",
    "\n",
    "vectorizer = TfidfVectorizer(ngram_range=(1, 2), stop_words = new_stopwords, lowercase = False, max_features=1500)\n",
    "\n",
    "train_g_x = vectorizer.fit_transform(train_g_x.values)\n",
    "test_g_x = vectorizer.transform(test_g_x.values)\n",
    "\n",
    "\n",
    "# model = sklearn.svm.SVC() # F_{1avg}=0.33\n",
    "# model = sklearn.svm.LinearSVC() # F_{1avg}=0.85\n",
    "# model = sklearn.neighbors.KNeighborsClassifier() # F_{1avg}=0.75\n",
    "model = sklearn.naive_bayes.MultinomialNB(1.9) # F_{1avg}=0.86\n",
    "# model = sklearn.linear_model.LogisticRegression()#0.84\n",
    "model.fit(train_g_x, train_g_y.values)\n",
    "predict_g_y = model.predict(test_g_x)\n",
    "print(sklearn.metrics.classification_report(test_g_y.values, predict_g_y, target_names=['1 or 2', '4 or 5']))\n",
    "print(\"Number of mislabeled points out of a total %d points : %d\" % (test_g_x.shape[0],(test_g_y != predict_g_y).sum()))\n",
    "\n",
    "# Confusion matrix\n",
    "labels = [0,1]\n",
    "conf_mat = confusion_matrix(test_g_y, predict_g_y, labels = labels) \n",
    "conf_mat"
   ]
  },
  {
   "cell_type": "code",
   "execution_count": 26,
   "metadata": {},
   "outputs": [
    {
     "data": {
      "image/png": "[encoded data removed]",
      "text/plain": [
       "<matplotlib.figure.Figure at 0xe9a72e8>"
      ]
     },
     "metadata": {},
     "output_type": "display_data"
    }
   ],
   "source": [
    "# Cross Validation\n",
    "from sklearn import model_selection\n",
    "import matplotlib.pyplot as plt\n",
    "import numpy as np\n",
    "import sklearn.svm\n",
    "vectorizer = TfidfVectorizer(ngram_range=(1, 2), stop_words = new_stopwords, max_features=1500)\n",
    "X,Y = vectorizer.fit_transform(df.cutted_comment), df.star\n",
    "\n",
    "model = sklearn.naive_bayes.MultinomialNB(1.9)\n",
    "\n",
    "# model = sklearn.svm.SVC()\n",
    "g_train_sizes = [0.1,0.2,0.3,0.4,0.5,0.6,0.7,0.8]\n",
    "train_sizes,train_score,test_score = model_selection.learning_curve(model, X, Y,train_sizes=g_train_sizes,cv=10,scoring='accuracy')\n",
    "train_error =  1- np.mean(train_score,axis=1)\n",
    "test_error = 1- np.mean(test_score,axis=1)\n",
    "plt.plot(train_sizes,train_error,'o-',color = 'r',label = 'training')\n",
    "plt.plot(train_sizes,test_error,'o-',color = 'g',label = 'testing')\n",
    "\n",
    "plt.legend(loc='best')\n",
    "plt.xlabel('traing samples')\n",
    "plt.ylabel('error')\n",
    "plt.show()"
   ]
  },
  {
   "cell_type": "markdown",
   "metadata": {},
   "source": [
    "### Classify the data whose star is greater or smaller than 3"
   ]
  },
  {
   "cell_type": "code",
   "execution_count": 27,
   "metadata": {
    "collapsed": true
   },
   "outputs": [],
   "source": [
    "data_bad = df[df.good == 0]\n",
    "data_good = df[df.good == 1]"
   ]
  },
  {
   "cell_type": "code",
   "execution_count": 28,
   "metadata": {},
   "outputs": [
    {
     "name": "stdout",
     "output_type": "stream",
     "text": [
      "             precision    recall  f1-score   support\n",
      "\n",
      "          1       0.17      0.84      0.28        82\n",
      "          2       0.97      0.53      0.69       718\n",
      "\n",
      "avg / total       0.89      0.56      0.64       800\n",
      "\n"
     ]
    }
   ],
   "source": [
    "new_stopwords = stopwords\n",
    "new_stopwords.extend(df_count_20)\n",
    "new_stopwords.extend(df_count_g_80)\n",
    "b_train_x, b_test_x, b_train_y, b_test_y = train_test_split(data_bad.cutted_comment, data_bad.star, test_size = 0.8, random_state = 4)\n",
    "b_vectorizer = TfidfVectorizer(ngram_range=(1,2), stop_words = new_stopwords.extend(sim_12), max_features=2000)\n",
    "b_train_x = b_vectorizer.fit_transform(b_train_x)\n",
    "\n",
    "b_model = sklearn.naive_bayes.MultinomialNB(4.5).fit(b_train_x, b_train_y)\n",
    "\n",
    "b_pred_y = b_model.predict(b_vectorizer.transform(b_test_x))\n",
    "print(sklearn.metrics.classification_report(b_pred_y, b_test_y))"
   ]
  },
  {
   "cell_type": "code",
   "execution_count": 29,
   "metadata": {},
   "outputs": [
    {
     "data": {
      "image/png": "[encoded data removed]",
      "text/plain": [
       "<matplotlib.figure.Figure at 0x10d63358>"
      ]
     },
     "metadata": {},
     "output_type": "display_data"
    },
    {
     "name": "stdout",
     "output_type": "stream",
     "text": [
      "0.8\n",
      "对分数小于3的数据，用朴素贝叶斯方法分类，模型精度上限大约为 0.614486215539\n"
     ]
    }
   ],
   "source": [
    "# Determine the size of training set\n",
    "\n",
    "# model = sklearn.svm.SVC()\n",
    "g_train_sizes = [0.1,0.2,0.3,0.4,0.5,0.6,0.7,0.8, 0.9]\n",
    "train_sizes,train_score,test_score = model_selection.learning_curve(b_model, b_train_x, b_train_y,train_sizes=g_train_sizes,cv=10,scoring='accuracy')\n",
    "train_error =  1- np.mean(train_score,axis=1)\n",
    "test_error = 1- np.mean(test_score,axis=1)\n",
    "plt.plot(train_sizes,train_error,'o-',color = 'r',label = 'training')\n",
    "plt.plot(train_sizes,test_error,'o-',color = 'g',label = 'testing')\n",
    "\n",
    "plt.legend(loc='best')\n",
    "plt.xlabel('traing examples')\n",
    "plt.ylabel('error')\n",
    "plt.show()\n",
    "print(g_train_sizes[np.argmin(test_error)])\n",
    "print(\"对分数小于3的数据，用朴素贝叶斯方法分类，模型精度上限大约为 \"+str(1-np.min(test_error)))"
   ]
  },
  {
   "cell_type": "code",
   "execution_count": 30,
   "metadata": {},
   "outputs": [
    {
     "name": "stdout",
     "output_type": "stream",
     "text": [
      "             precision    recall  f1-score   support\n",
      "\n",
      "          4       0.97      0.51      0.67       745\n",
      "          5       0.10      0.76      0.18        55\n",
      "\n",
      "avg / total       0.91      0.53      0.64       800\n",
      "\n"
     ]
    }
   ],
   "source": [
    "g_train_x, g_test_x, g_train_y, g_test_y = train_test_split(data_good.cutted_comment, data_good.star, test_size = 0.8, random_state = 4)\n",
    "g_vectorizer = TfidfVectorizer(ngram_range=(1,2), stop_words = new_stopwords.extend(sim_12))\n",
    "g_train_x = g_vectorizer.fit_transform(g_train_x)\n",
    "g_model = sklearn.naive_bayes.MultinomialNB(4).fit(g_train_x, g_train_y)\n",
    "g_pred_y = g_model.predict(g_vectorizer.transform(g_test_x))\n",
    "print(sklearn.metrics.classification_report(g_pred_y, g_test_y))"
   ]
  },
  {
   "cell_type": "code",
   "execution_count": 31,
   "metadata": {},
   "outputs": [
    {
     "data": {
      "image/png": "[encoded data removed]",
      "text/plain": [
       "<matplotlib.figure.Figure at 0x10eb1a58>"
      ]
     },
     "metadata": {},
     "output_type": "display_data"
    },
    {
     "name": "stdout",
     "output_type": "stream",
     "text": [
      "0.2\n",
      "对分数大于3的数据，用朴素贝叶斯方法分类，模型精度上限大约为 0.536090225564\n"
     ]
    }
   ],
   "source": [
    "# Determine the size of training set\n",
    "\n",
    "# model = sklearn.svm.SVC()\n",
    "g_train_sizes = [0.1,0.2,0.3,0.4,0.5,0.6,0.7,0.8, 0.9]\n",
    "train_sizes,train_score,test_score = model_selection.learning_curve(g_model, g_train_x, g_train_y,train_sizes=g_train_sizes,cv=10,scoring='accuracy')\n",
    "train_error =  1- np.mean(train_score,axis=1)\n",
    "test_error = 1- np.mean(test_score,axis=1)\n",
    "plt.plot(train_sizes,train_error,'o-',color = 'r',label = 'training')\n",
    "plt.plot(train_sizes,test_error,'o-',color = 'g',label = 'testing')\n",
    "\n",
    "plt.legend(loc='best')\n",
    "plt.xlabel('traing examples')\n",
    "plt.ylabel('error')\n",
    "plt.show()\n",
    "print(g_train_sizes[np.argmin(test_error)])\n",
    "print(\"对分数大于3的数据，用朴素贝叶斯方法分类，模型精度上限大约为 \"+str(1-np.min(test_error)))"
   ]
  },
  {
   "cell_type": "markdown",
   "metadata": {},
   "source": [
    "## Try to combine three two-classification"
   ]
  },
  {
   "cell_type": "markdown",
   "metadata": {},
   "source": [
    "Now we use three classifications, all the three classifications directly work on the whole test set.\n"
   ]
  },
  {
   "cell_type": "code",
   "execution_count": 32,
   "metadata": {
    "collapsed": true
   },
   "outputs": [],
   "source": [
    "# Data split\n",
    "import numpy as np\n",
    "train_x, f_test_x, train_y,  test_y = train_test_split(df.cutted_comment.values, df[['good', 'star']], test_size = 0.4, random_state = 32)\n",
    "# Vecotrize\n",
    "new_stopwords = stopwords\n",
    "vectorizer = TfidfVectorizer(ngram_range=(1,2), stop_words = new_stopwords.extend(df_count_once), lowercase = False)\n",
    "train_x = vectorizer.fit_transform(train_x)\n",
    "test_x = vectorizer.transform(f_test_x)\n",
    "\n",
    "# 区分12 还是 45 的数据, train_first_y, test_first_y\n",
    "train_f_y, test_f_y = train_y.good.values, test_y.good.values\n",
    "\n",
    "# 在区分好12 45 后区分具体评分的数据 train_good/bad_x, train_good/bad_y\n",
    "new_stopwords = stopwords\n",
    "new_stopwords.extend(df_count_20) \n",
    "new_stopwords.extend(df_count_g_50)\n",
    "vectorizer_b = TfidfVectorizer(ngram_range=(1,2), stop_words = new_stopwords.extend(sim_12), lowercase=False, max_features=600)\n",
    "vectorizer_g = TfidfVectorizer(ngram_range=(1,2), stop_words = new_stopwords.extend(sim_45), lowercase=False, max_features=700)\n",
    "\n",
    "train_g_x = vectorizer_g.fit_transform(np.array([train_x[i] for i in range(train_x.shape[0]) if train_y.good.values[i] == 1], dtype=str))\n",
    "train_b_x = vectorizer_b.fit_transform(np.array([train_x[i] for i in range(train_x.shape[0]) if train_y.good.values[i] == 0], dtype=str))\n",
    "train_g_y, train_b_y = [train_y['star'].values[i] for i in range(len(train_y)) if train_y.good.values[i] == 1], [train_y['star'].values[i] for i in range(len(train_y)) if train_y.good.values[i] == 0]\n",
    "\n",
    "\n",
    "# normalizer = sklearn.preprocessing.Normalizer().fit(train_x)"
   ]
  },
  {
   "cell_type": "code",
   "execution_count": 33,
   "metadata": {},
   "outputs": [
    {
     "data": {
      "text/plain": [
       "LinearSVC(C=50, class_weight=None, dual=True, fit_intercept=True,\n",
       "     intercept_scaling=1, loss='squared_hinge', max_iter=1000,\n",
       "     multi_class='ovr', penalty='l2', random_state=None, tol=0.0001,\n",
       "     verbose=0)"
      ]
     },
     "execution_count": 33,
     "metadata": {},
     "output_type": "execute_result"
    }
   ],
   "source": [
    "# Model Training\n",
    "# model_f = sklearn.neighbors.KNeighborsClassifier()\n",
    "model_f = sklearn.naive_bayes.MultinomialNB(alpha = 1.9)\n",
    "model_f.fit(train_x, train_f_y)\n",
    "#\n",
    "# model_g = sklearn.naive_bayes.MultinomialNB(alpha = 1.5)\n",
    "model_g = sklearn.svm.LinearSVC(C=50)\n",
    "# model_g = sklearn.neighbors.KNeighborsClassifier()\n",
    "# model_g = sklearn.linear_model.LogisticRegression(C=10)\n",
    "# sample_weight_g = [(lambda x: 1 if x == 4 else 1.008885)(x) for x in train_g_y]\n",
    "model_g.fit(train_g_x, train_g_y)\n",
    "\n",
    "\n",
    "# model_b = sklearn.naive_bayes.MultinomialNB(alpha = 0.6)\n",
    "# model_b = sklearn.naive_bayes.GaussianNB()\n",
    "model_b = sklearn.svm.LinearSVC(C = 50)\n",
    "# model_b = sklearn.linear_model.LogisticRegression()\n",
    "# model_b = sklearn.neighbors.KNeighborsClassifier(weights='distance', n_neighbors=7)\n",
    "model_b.fit(train_b_x, np.array(train_b_y))\n"
   ]
  },
  {
   "cell_type": "code",
   "execution_count": 34,
   "metadata": {
    "scrolled": false
   },
   "outputs": [
    {
     "name": "stdout",
     "output_type": "stream",
     "text": [
      "             precision    recall  f1-score   support\n",
      "\n",
      "       1or2       0.83      0.86      0.84       390\n",
      "       4or5       0.86      0.84      0.85       410\n",
      "\n",
      "avg / total       0.85      0.85      0.85       800\n",
      "\n",
      "第一次二分类 Number of mislabeled points out of a total 800 points : 123\n",
      "             precision    recall  f1-score   support\n",
      "\n",
      "          1       0.45      0.90      0.60       199\n",
      "          2       0.00      0.00      0.00       191\n",
      "          4       0.00      0.00      0.00       194\n",
      "          5       0.48      0.89      0.62       216\n",
      "\n",
      "avg / total       0.24      0.46      0.32       800\n",
      "\n",
      "Number of mislabeled points out of a total 800 points : 429\n"
     ]
    },
    {
     "name": "stderr",
     "output_type": "stream",
     "text": [
      "C:\\Users\\Claude\\Anaconda3\\lib\\site-packages\\sklearn\\metrics\\classification.py:1113: UndefinedMetricWarning: Precision and F-score are ill-defined and being set to 0.0 in labels with no predicted samples.\n",
      "  'precision', 'predicted', average, warn_for)\n"
     ]
    },
    {
     "data": {
      "text/plain": [
       "array([[179,   0,   0,  20],\n",
       "       [155,   0,   0,  36],\n",
       "       [ 43,   0,   0, 151],\n",
       "       [ 24,   0,   0, 192]])"
      ]
     },
     "execution_count": 34,
     "metadata": {},
     "output_type": "execute_result"
    }
   ],
   "source": [
    "# Predict on the testing set   \n",
    "pred_y = model_f.predict(test_x)\n",
    "print(sklearn.metrics.classification_report(test_y.good.values, pred_y, target_names=['1or2', '4or5']))\n",
    "print(\"第一次二分类 Number of mislabeled points out of a total %d points : %d\" % ((len(test_y.good.values),(test_y.good.values != pred_y).sum())))\n",
    "\n",
    "test_x_g, test_x_b = [test_x[i] for i in range(len(pred_y)) if pred_y[i] == 1], [test_x[i] for i in range(len(pred_y)) if pred_y[i] == 0]\n",
    "\n",
    "# pred_y_g, pred_y_b = model_g.predict(test_x), model_b.predict(test_x) \n",
    "pred_y_g = model_g.predict(vectorizer_g.transform([f_test_x[i] for i in range(len(test_y)) if pred_y[i] == 1]))\n",
    "pred_y_b = model_b.predict(vectorizer_b.transform([f_test_x[i] for i in range(len(test_y)) if pred_y[i] == 0]))\n",
    "\n",
    "\n",
    "# Conclude the prediction result\n",
    "pred_result = [] \n",
    "count_g, count_b = 0,0\n",
    "for i in range(len(pred_y)): # Merge\n",
    "    if pred_y[i] == 0:\n",
    "        pred_result.append(pred_y_b[count_b])\n",
    "        count_b+=1\n",
    "    else:\n",
    "        pred_result.append(pred_y_g[count_g])\n",
    "        count_g+=1\n",
    "print(sklearn.metrics.classification_report(test_y.star.values, pred_result))\n",
    "print(\"Number of mislabeled points out of a total %d points : %d\" % ((len(test_y.star.values),(test_y.star.values != pred_result).sum())))\n",
    "    \n",
    "# Confusion matrix\n",
    "from sklearn.metrics import confusion_matrix\n",
    "labels = [1,2,4,5]\n",
    "conf_mat = confusion_matrix(test_y.star.values, pred_result, labels = labels) \n",
    "conf_mat"
   ]
  },
  {
   "cell_type": "code",
   "execution_count": 35,
   "metadata": {},
   "outputs": [
    {
     "name": "stdout",
     "output_type": "stream",
     "text": [
      "             precision    recall  f1-score   support\n",
      "\n",
      "          1       0.99      0.97      0.98       306\n",
      "          2       0.97      0.99      0.98       304\n",
      "\n",
      "avg / total       0.98      0.98      0.98       610\n",
      "\n",
      "Number of mislabeled points out of a total 800 points : 429\n"
     ]
    },
    {
     "data": {
      "text/plain": [
       "array([[297,   9],\n",
       "       [  4, 300]])"
      ]
     },
     "execution_count": 35,
     "metadata": {},
     "output_type": "execute_result"
    }
   ],
   "source": [
    "print(sklearn.metrics.classification_report(model_b.predict(train_b_x), train_b_y))\n",
    "print(\"Number of mislabeled points out of a total %d points : %d\" % ((len(test_y.star.values),(test_y.star.values != pred_result).sum())))\n",
    "    \n",
    "# Confusion matrix\n",
    "from sklearn.metrics import confusion_matrix\n",
    "labels = [1,2]\n",
    "conf_mat = confusion_matrix(model_b.predict(train_b_x), train_b_y, labels = labels) \n",
    "conf_mat"
   ]
  },
  {
   "cell_type": "code",
   "execution_count": 42,
   "metadata": {
    "collapsed": true
   },
   "outputs": [],
   "source": [
    "import gensim"
   ]
  }
 ],
 "metadata": {
  "kernelspec": {
   "display_name": "Python 3",
   "language": "python",
   "name": "python3"
  },
  "language_info": {
   "codemirror_mode": {
    "name": "ipython",
    "version": 2
   },
   "file_extension": ".py",
   "mimetype": "text/x-python",
   "name": "python",
   "nbconvert_exporter": "python",
   "pygments_lexer": "ipython2",
   "version": "2.7.14"
  }
 },
 "nbformat": 4,
 "nbformat_minor": 2
}
