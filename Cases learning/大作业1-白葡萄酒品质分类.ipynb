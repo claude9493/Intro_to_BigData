{
 "cells": [
  {
   "cell_type": "markdown",
   "metadata": {},
   "source": [
    "# 白葡萄酒品质分类  \n",
    "在经过前7章的学习，你应该已经掌握Python基本数据结构、读取存入、控制结构等内容。先暂时停下学习Python新内容，插入一章对前面所学所有知识的练习。这章将用的是关于白葡萄酒的各项指标数据，这个数据可以对白葡萄酒品质进行预测。我们都知道，葡萄酒的价格是和其品质相关的，通常一个葡萄酒是否值得这个价格还需要一个品鉴师对"
   ]
  },
  {
   "cell_type": "markdown",
   "metadata": {},
   "source": [
    "|变量名|含义|\n",
    "|:---:|---|\n",
    "|fixed acidity|固定酸度|\n",
    "|volatile acidity|挥发性酸度|\n",
    "|citric acid|柠檬酸|\n",
    "|residual sugar|剩余糖|\n",
    "|chlorides|氯化物|\n",
    "|free sulfur dioxide|游离二氧化碳|\n",
    "|total sulfur dioxide|总二氧化硫|\n",
    "|density|密度|\n",
    "|pH|pH值|\n",
    "|sulphates|酸碱盐|\n",
    "|alcohol|酒精|\n",
    "|quality|品质|"
   ]
  },
  {
   "cell_type": "markdown",
   "metadata": {},
   "source": [
    "## 读取白葡萄酒品质数据集  \n",
    "首先，我们需要将存储在本地的数据集\"white_wine.csv\"读取入内存中。\n",
    "\n",
    "---------\n",
    "练习-读取数据  \n",
    "\n",
    "说明\n",
    "\n",
    "+ 引入csv模块\n",
    "+ 将文件\"white_wine.csv\"以只读方式打开，保存打开文件为f\n",
    "+ 对打开的文件对象f使用csv.reader()方法，并保存为reader\n",
    "+ 新建列表content\n",
    "+ 使用for循环，从reader中读取每一行数据添加到content中\n",
    "+ 打印content前5行\n",
    "\n",
    "默认代码\n",
    "\n",
    "答案"
   ]
  },
  {
   "cell_type": "code",
   "execution_count": 5,
   "metadata": {
    "collapsed": false,
    "scrolled": true
   },
   "outputs": [
    {
     "name": "stdout",
     "output_type": "stream",
     "text": [
      "[['fixed acidity', 'volatile acidity', 'citric acid', 'residual sugar', 'chlorides', 'free sulfur dioxide', 'total sulfur dioxide', 'density', 'pH', 'sulphates', 'alcohol', 'quality'], ['7', '0.27', '0.36', '20.7', '0.045', '45', '170', '1.001', '3', '0.45', '8.8', '6'], ['8.1', '0.28', '0.4', '6.9', '0.05', '30', '97', '0.9951', '3.26', '0.44', '10.1', '6'], ['7.2', '0.23', '0.32', '8.5', '0.058', '47', '186', '0.9956', '3.19', '0.4', '9.9', '6'], ['7.2', '0.23', '0.32', '8.5', '0.058', '47', '186', '0.9956', '3.19', '0.4', '9.9', '6']]\n"
     ]
    }
   ],
   "source": [
    "import csv\n",
    "\n",
    "f = open(\"white_wine.csv\", \"r\")\n",
    "reader = csv.reader(f)\n",
    "content = []\n",
    "for row in reader:\n",
    "    content.append(row)\n",
    "f.close()\n",
    "print content[:5]"
   ]
  },
  {
   "cell_type": "markdown",
   "metadata": {},
   "source": [
    "------"
   ]
  },
  {
   "cell_type": "markdown",
   "metadata": {},
   "source": [
    "## 查看白葡萄酒中总共分为几个品质   \n",
    "品质`quality`变量在数据中是一个离散变量，而不是连续的，所以它只会有固定的几个等级。那么我们用Python中自带的集合`set`来查看白葡萄酒中总共的品质等级  \n",
    "\n",
    "-------\n",
    "练习- 集合set\n",
    "\n",
    "+ 新建列表`qualities`，用于保存每个样本的品质等级\n",
    "+ 对`content`除第一行后进行for循环，抽取每个样本的最后一个元素，将其`int`整型化后添加到列表`qualities`中\n",
    "+ 将列表`qualities`集合化后保存到变量`unity_quality`中\n",
    "+ 打印变量`unity_quality`\n",
    "\n",
    "默认代码\n",
    "\n",
    "\n",
    "预设代码\n",
    "\n",
    "\n",
    "答案"
   ]
  },
  {
   "cell_type": "code",
   "execution_count": 24,
   "metadata": {
    "collapsed": false
   },
   "outputs": [
    {
     "name": "stdout",
     "output_type": "stream",
     "text": [
      "set([3, 4, 5, 6, 7, 8, 9])\n"
     ]
    }
   ],
   "source": [
    "qualities = []\n",
    "\n",
    "for row in content[1:]:\n",
    "    qualities.append(int(row[-1]))\n",
    "\n",
    "unity_quality = set(qualities)\n",
    "print unity_quality"
   ]
  },
  {
   "cell_type": "markdown",
   "metadata": {},
   "source": [
    "-----"
   ]
  },
  {
   "cell_type": "markdown",
   "metadata": {},
   "source": [
    "## 按白葡萄酒等级将数据集划分为7个子集\n"
   ]
  },
  {
   "cell_type": "markdown",
   "metadata": {
    "collapsed": false
   },
   "source": [
    "\n",
    "将数据按白葡萄酒等级`quality`进行切分为十个子集，保存到一个字典中，字典的键为`quality`具体数值，值为归属于该`quality`的样本列表\n",
    "\n",
    "-------\n",
    "练习- 切分数据集\n",
    "\n",
    "+ 新建字典`content_dict`， 用于存储每个子数据集\n",
    "+ 对`content`除第一行外进行for循环\n",
    "+ 每个循环中，选取`quality`变量的值，转为`int`型，存储为`quality`\n",
    "    + 如果`quality`不存在于`content_dict`的键中，则新建键`quality`，并初始赋值为一个只有这一行内容的列表\n",
    "    + 若已在`content_dict`键中，则对该键内容增添这一行内容\n",
    "+ 打印`content_dict`的键\n",
    "\n",
    "默认代码\n",
    "\n",
    "\n",
    "预设代码\n",
    "```\n",
    "import csv\n",
    "\n",
    "f = open(\"white_wine.csv\", \"r\")\n",
    "reader = csv.reader(f)\n",
    "content = []\n",
    "for row in reader:\n",
    "    content.append(row)\n",
    "f.close()\n",
    "```\n",
    "\n",
    "答案"
   ]
  },
  {
   "cell_type": "code",
   "execution_count": 7,
   "metadata": {
    "collapsed": false
   },
   "outputs": [
    {
     "name": "stdout",
     "output_type": "stream",
     "text": [
      "[3, 4, 5, 6, 7, 8, 9]\n"
     ]
    }
   ],
   "source": [
    "content_dict = {}\n",
    "\n",
    "for row in content[1:]:\n",
    "    quality = int(row[-1])\n",
    "    \n",
    "    if quality not in content_dict.keys():\n",
    "        content_dict[quality] = [row]\n",
    "    \n",
    "    else:\n",
    "        content_dict[quality].append(row)\n",
    "\n",
    "print content_dict.keys()"
   ]
  },
  {
   "cell_type": "markdown",
   "metadata": {},
   "source": [
    "------"
   ]
  },
  {
   "cell_type": "markdown",
   "metadata": {},
   "source": [
    "## 统计在每个品质的样本量  \n",
    "那么，你会不会好奇每个品质的样本是不是有多有少呢？哪个品质的样本量多一些，哪个又少一点？\n",
    "\n",
    "-------\n",
    "练习 - 统计样本量\n",
    "\n",
    "+ 对"
   ]
  },
  {
   "cell_type": "code",
   "execution_count": 23,
   "metadata": {
    "collapsed": false
   },
   "outputs": [
    {
     "name": "stdout",
     "output_type": "stream",
     "text": [
      "[(3, 14), (4, 115), (5, 1020), (6, 1539), (7, 616), (8, 123), (9, 4)]\n"
     ]
    }
   ],
   "source": [
    "number_tuple = []\n",
    "\n",
    "for key, value in content_dict.items():\n",
    "    number_tuple.append((key, len(value)))\n",
    "    \n",
    "print number_tuple"
   ]
  },
  {
   "cell_type": "markdown",
   "metadata": {},
   "source": [
    "-----"
   ]
  },
  {
   "cell_type": "markdown",
   "metadata": {},
   "source": [
    "## 求每个数据集中`fixed acidity`的均值\n",
    "既然白葡萄酒有品质的区别，那么是不是每个品质的`fixed acidity`区别会很大呢？\n",
    "\n",
    "-----\n",
    "练习"
   ]
  },
  {
   "cell_type": "code",
   "execution_count": 21,
   "metadata": {
    "collapsed": false
   },
   "outputs": [
    {
     "name": "stdout",
     "output_type": "stream",
     "text": [
      "[(3, 7.535714285714286), (4, 7.052173913043476), (5, 6.907843137254891), (6, 6.812085769980511), (7, 6.755844155844158), (8, 6.708130081300811), (9, 7.5)]\n"
     ]
    }
   ],
   "source": [
    "mean_tuple = []\n",
    "\n",
    "for key, value in content_dict.items():\n",
    "    sum_ = 0\n",
    "    for row in value:\n",
    "        sum_ += float(row[0])\n",
    "    mean_tuple.append((key, sum_/len(value)))\n",
    "\n",
    "print mean_tuple"
   ]
  }
 ],
 "metadata": {
  "kernelspec": {
   "display_name": "Python 2",
   "language": "python",
   "name": "python2"
  },
  "language_info": {
   "codemirror_mode": {
    "name": "ipython",
    "version": 2
   },
   "file_extension": ".py",
   "mimetype": "text/x-python",
   "name": "python",
   "nbconvert_exporter": "python",
   "pygments_lexer": "ipython2",
   "version": "2.7.11"
  }
 },
 "nbformat": 4,
 "nbformat_minor": 2
}
